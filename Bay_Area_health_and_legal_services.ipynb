{
  "nbformat": 4,
  "nbformat_minor": 0,
  "metadata": {
    "colab": {
      "name": "Bay Area health and legal services.ipynb",
      "provenance": [],
      "collapsed_sections": [],
      "authorship_tag": "ABX9TyPcVqCCfXQEU9NyyesWjqj3",
      "include_colab_link": true
    },
    "kernelspec": {
      "name": "python3",
      "display_name": "Python 3"
    }
  },
  "cells": [
    {
      "cell_type": "markdown",
      "metadata": {
        "id": "view-in-github",
        "colab_type": "text"
      },
      "source": [
        "<a href=\"https://colab.research.google.com/github/chengren/Asian-Pacific-Orgainzaitions-in-CA/blob/master/Bay_Area_health_and_legal_services.ipynb\" target=\"_parent\"><img src=\"https://colab.research.google.com/assets/colab-badge.svg\" alt=\"Open In Colab\"/></a>"
      ]
    },
    {
      "cell_type": "code",
      "metadata": {
        "id": "ptGCoHtg33tI",
        "colab_type": "code",
        "colab": {
          "base_uri": "https://localhost:8080/",
          "height": 1000
        },
        "outputId": "d947927b-8664-4364-fb3b-b2bc1e6bb62b"
      },
      "source": [
        "%%html\n",
        "<iframe src=\"https://shiny.demog.berkeley.edu/bimi/CENSUS/\" width=\"1200\" height=\"1000\"></iframe>"
      ],
      "execution_count": 2,
      "outputs": [
        {
          "output_type": "display_data",
          "data": {
            "text/html": [
              "<iframe src=\"https://shiny.demog.berkeley.edu/bimi/CENSUS/\" width=\"1200\" height=\"1000\"></iframe>"
            ],
            "text/plain": [
              "<IPython.core.display.HTML object>"
            ]
          },
          "metadata": {
            "tags": []
          }
        }
      ]
    },
    {
      "cell_type": "markdown",
      "metadata": {
        "id": "8m8CjBBd6oGk",
        "colab_type": "text"
      },
      "source": [
        "If the website did not open, please refer :\"https://shiny.demog.berkeley.edu/bimi/CENSUS/\""
      ]
    },
    {
      "cell_type": "markdown",
      "metadata": {
        "id": "V_ZMOwyx4ds9",
        "colab_type": "text"
      },
      "source": [
        "<h2>Notes<br>\n",
        "<h4>This is the tool that I made for Berkeley Interdisciplinary Migration Initiative. The tool will expand to centrall valley in recent months. However, we met some challenge that the more place we are going to cover, the more challegeable for us to find \"all\" related organizations. I believe machine learning at natural language processing could help us solve this issue. Moreover, not only in immigration organizations, if we want to explore other type of organization, such as for LGBTQ, or Hispanic related organizations, we can apply the similar method and help organization traget their clients.\n"
      ]
    },
    {
      "cell_type": "markdown",
      "metadata": {
        "id": "Nh6_msjO6kOK",
        "colab_type": "text"
      },
      "source": [
        "I am sorry I cannot share the code of the tool"
      ]
    }
  ]
}